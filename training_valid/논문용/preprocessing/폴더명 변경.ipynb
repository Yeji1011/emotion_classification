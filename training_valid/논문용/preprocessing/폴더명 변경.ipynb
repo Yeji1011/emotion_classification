{
 "cells": [
  {
   "cell_type": "markdown",
   "id": "316e02ee-0ab8-41e4-9b74-9193c600fc81",
   "metadata": {},
   "source": [
    "# 폴더명 변경"
   ]
  },
  {
   "cell_type": "code",
   "execution_count": 15,
   "id": "fe106a1a-1a06-4a4a-96d2-d4386cc3d63a",
   "metadata": {},
   "outputs": [],
   "source": [
    "import os"
   ]
  },
  {
   "cell_type": "code",
   "execution_count": 16,
   "id": "a3488668-9f81-460c-962c-d5f68bfc2872",
   "metadata": {},
   "outputs": [],
   "source": [
    "#여러 바꿀 폴더가 있는 경로\n",
    "folder_path = 'C:\\\\Users\\\\yj\\\\Desktop\\\\Dataset\\\\dataset_per_sub'"
   ]
  },
  {
   "cell_type": "code",
   "execution_count": 17,
   "id": "de36e804-bfaf-48b2-876b-cce4bdbeb064",
   "metadata": {},
   "outputs": [],
   "source": [
    "folder_list = os.listdir(folder_path)"
   ]
  },
  {
   "cell_type": "code",
   "execution_count": 20,
   "id": "544103ff-72dc-4a9a-b4c8-d67eb11a5e0e",
   "metadata": {
    "scrolled": true,
    "tags": []
   },
   "outputs": [],
   "source": [
    "for folder in folder_list:\n",
    "    before_path =folder_path + '\\\\{}'.format(folder) + '\\\\valid' #C:\\Users\\yj\\Desktop\\Dataset\\dataset_per_sub\\F1\\valid\n",
    "    after_path =folder_path + '\\\\{}'.format(folder) + '\\\\test'  #C:\\Users\\yj\\Desktop\\Dataset\\dataset_per_sub\\F1\\test\n",
    "    try:\n",
    "        # os.rename(before_path, after_path) # os.rename(a, b) - a는 원래 파일명, b는 바꿀 파일명\n",
    "    except:\n",
    "        pass"
   ]
  },
  {
   "cell_type": "code",
   "execution_count": 23,
   "id": "f7387631-2546-457b-b110-d448ba7eab35",
   "metadata": {
    "scrolled": true,
    "tags": []
   },
   "outputs": [
    {
     "name": "stdout",
     "output_type": "stream",
     "text": [
      "C:\\Users\\yj\\Desktop\\Dataset\\dataset_per_sub\\F1\\train\\train\n",
      "C:\\Users\\yj\\Desktop\\Dataset\\dataset_per_sub\\F1\\train\n"
     ]
    },
    {
     "ename": "FileExistsError",
     "evalue": "[WinError 183] 파일이 이미 있으므로 만들 수 없습니다: 'C:\\\\Users\\\\yj\\\\Desktop\\\\Dataset\\\\dataset_per_sub\\\\F1\\\\train\\\\train' -> 'C:\\\\Users\\\\yj\\\\Desktop\\\\Dataset\\\\dataset_per_sub\\\\F1\\\\train'",
     "output_type": "error",
     "traceback": [
      "\u001b[1;31m---------------------------------------------------------------------------\u001b[0m",
      "\u001b[1;31mFileExistsError\u001b[0m                           Traceback (most recent call last)",
      "Input \u001b[1;32mIn [23]\u001b[0m, in \u001b[0;36m<cell line: 1>\u001b[1;34m()\u001b[0m\n\u001b[0;32m      4\u001b[0m after_path\u001b[38;5;241m=\u001b[39m  \u001b[38;5;124m'\u001b[39m\u001b[38;5;124mC:\u001b[39m\u001b[38;5;130;01m\\\\\u001b[39;00m\u001b[38;5;124mUsers\u001b[39m\u001b[38;5;130;01m\\\\\u001b[39;00m\u001b[38;5;124myj\u001b[39m\u001b[38;5;130;01m\\\\\u001b[39;00m\u001b[38;5;124mDesktop\u001b[39m\u001b[38;5;130;01m\\\\\u001b[39;00m\u001b[38;5;124mDataset\u001b[39m\u001b[38;5;130;01m\\\\\u001b[39;00m\u001b[38;5;124mdataset_per_sub\u001b[39m\u001b[38;5;130;01m\\\\\u001b[39;00m\u001b[38;5;124m'\u001b[39m \u001b[38;5;241m+\u001b[39m \u001b[38;5;124m'\u001b[39m\u001b[38;5;132;01m{}\u001b[39;00m\u001b[38;5;124m'\u001b[39m\u001b[38;5;241m.\u001b[39mformat(folder)  \u001b[38;5;241m+\u001b[39m\u001b[38;5;124m'\u001b[39m\u001b[38;5;130;01m\\\\\u001b[39;00m\u001b[38;5;124mtrain\u001b[39m\u001b[38;5;124m'\u001b[39m\n\u001b[0;32m      5\u001b[0m \u001b[38;5;28mprint\u001b[39m(after_path)\n\u001b[1;32m----> 6\u001b[0m \u001b[43mos\u001b[49m\u001b[38;5;241;43m.\u001b[39;49m\u001b[43mrename\u001b[49m\u001b[43m(\u001b[49m\u001b[43mbefore_path\u001b[49m\u001b[43m,\u001b[49m\u001b[43m \u001b[49m\u001b[43mafter_path\u001b[49m\u001b[43m)\u001b[49m\n\u001b[0;32m      7\u001b[0m \u001b[38;5;28;01mbreak\u001b[39;00m\n",
      "\u001b[1;31mFileExistsError\u001b[0m: [WinError 183] 파일이 이미 있으므로 만들 수 없습니다: 'C:\\\\Users\\\\yj\\\\Desktop\\\\Dataset\\\\dataset_per_sub\\\\F1\\\\train\\\\train' -> 'C:\\\\Users\\\\yj\\\\Desktop\\\\Dataset\\\\dataset_per_sub\\\\F1\\\\train'"
     ]
    }
   ],
   "source": [
    "for folder in folder_list:\n",
    "    before_path= 'C:\\\\Users\\\\yj\\\\Desktop\\\\Dataset\\\\dataset_per_sub\\\\' + '{}'.format(folder)  +'\\\\train\\\\train'\n",
    "    print(before_path)\n",
    "    after_path=  'C:\\\\Users\\\\yj\\\\Desktop\\\\Dataset\\\\dataset_per_sub\\\\' + '{}'.format(folder)  +'\\\\train'\n",
    "    print(after_path)\n",
    "    # os.rename(before_path, after_path)\n",
    "    break"
   ]
  },
  {
   "cell_type": "code",
   "execution_count": null,
   "id": "79f3dc3a-41b7-4575-b018-9f2b3dac9a09",
   "metadata": {},
   "outputs": [],
   "source": [
    "C:\\Users\\yj\\Desktop\\Dataset\\dataset_per_sub\\F1\\train"
   ]
  }
 ],
 "metadata": {
  "kernelspec": {
   "display_name": "Python 3 (ipykernel)",
   "language": "python",
   "name": "python3"
  },
  "language_info": {
   "codemirror_mode": {
    "name": "ipython",
    "version": 3
   },
   "file_extension": ".py",
   "mimetype": "text/x-python",
   "name": "python",
   "nbconvert_exporter": "python",
   "pygments_lexer": "ipython3",
   "version": "3.9.12"
  }
 },
 "nbformat": 4,
 "nbformat_minor": 5
}

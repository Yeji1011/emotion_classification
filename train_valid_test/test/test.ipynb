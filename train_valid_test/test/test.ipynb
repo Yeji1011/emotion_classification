{
 "cells": [
  {
   "cell_type": "markdown",
   "id": "541c233d-6bce-45f9-85d1-7bdbce7cbca6",
   "metadata": {},
   "source": [
    "# training:valid=9:1:1장 테스트 결과"
   ]
  },
  {
   "cell_type": "code",
   "execution_count": 1,
   "id": "9f62fcad-0390-430b-a743-f03991aa82ff",
   "metadata": {},
   "outputs": [
    {
     "data": {
      "text/plain": [
       "<matplotlib.pyplot._IonContext at 0x24f5f7a7e80>"
      ]
     },
     "execution_count": 1,
     "metadata": {},
     "output_type": "execute_result"
    }
   ],
   "source": [
    "from __future__ import print_function, division\n",
    "\n",
    "import torch\n",
    "import torch.nn as nn\n",
    "import torch.optim as optim\n",
    "from torch.optim import lr_scheduler\n",
    "import torch.backends.cudnn as cudnn\n",
    "import numpy as np\n",
    "import torchvision\n",
    "from torchvision import datasets, models, transforms\n",
    "import matplotlib.pyplot as plt\n",
    "import time\n",
    "import os\n",
    "import copy\n",
    "\n",
    "cudnn.benchmark = True\n",
    "plt.ion()   # 대화형 모드"
   ]
  },
  {
   "cell_type": "code",
   "execution_count": 2,
   "id": "5a44e2bb-38dc-4238-bde5-57fc3ebc474f",
   "metadata": {},
   "outputs": [
    {
     "name": "stdout",
     "output_type": "stream",
     "text": [
      "------- GPU Working -------\n",
      "[Current GPU]: NVIDIA GeForce RTX 3090\n",
      "[PyTorch version]:  1.11.0\n"
     ]
    }
   ],
   "source": [
    "device = torch.device(\"cuda\" if torch.cuda.is_available() else \"cpu\")\n",
    "\n",
    "if torch.cuda.is_available():\n",
    "    print(\"------- GPU Working -------\")\n",
    "    print(\"[Current GPU]: \" + str(torch.cuda.get_device_name(0)))\n",
    "else:\n",
    "    print(\"------- CPU Working -------\")\n",
    "print('[PyTorch version]: ', torch.__version__)"
   ]
  },
  {
   "cell_type": "code",
   "execution_count": 3,
   "id": "5dee11a4-02fc-43de-a46d-1be400021aba",
   "metadata": {},
   "outputs": [],
   "source": [
    "batch_size=1\n",
    "num_workers=8  #16안좋은듯"
   ]
  },
  {
   "cell_type": "code",
   "execution_count": 4,
   "id": "1b1f5378-8754-4d86-bc38-cfbd490eaebe",
   "metadata": {},
   "outputs": [],
   "source": [
    "folder_path = 'D:\\\\experiment_dataset'\n",
    "folder_list = os.listdir(folder_path)\n",
    "subject_list=folder_list"
   ]
  },
  {
   "cell_type": "code",
   "execution_count": 15,
   "id": "050bdf9d-593d-4ae4-88eb-d1742081e5e4",
   "metadata": {
    "scrolled": true,
    "tags": []
   },
   "outputs": [
    {
     "data": {
      "text/plain": [
       "['F1',\n",
       " 'F10',\n",
       " 'F11',\n",
       " 'F12',\n",
       " 'F13',\n",
       " 'F14',\n",
       " 'F15',\n",
       " 'F16',\n",
       " 'F17',\n",
       " 'F18',\n",
       " 'F19',\n",
       " 'F2',\n",
       " 'F20',\n",
       " 'F21',\n",
       " 'F22',\n",
       " 'F23',\n",
       " 'F24',\n",
       " 'F25',\n",
       " 'F26',\n",
       " 'F27',\n",
       " 'F28',\n",
       " 'F29',\n",
       " 'F3',\n",
       " 'F30',\n",
       " 'F31',\n",
       " 'F32',\n",
       " 'F33',\n",
       " 'F34',\n",
       " 'F35',\n",
       " 'F36',\n",
       " 'F37',\n",
       " 'F4',\n",
       " 'F5',\n",
       " 'F6',\n",
       " 'F7',\n",
       " 'F8',\n",
       " 'F9',\n",
       " 'M1',\n",
       " 'M10',\n",
       " 'M11',\n",
       " 'M12',\n",
       " 'M13',\n",
       " 'M14',\n",
       " 'M15',\n",
       " 'M16',\n",
       " 'M17',\n",
       " 'M18',\n",
       " 'M19',\n",
       " 'M2',\n",
       " 'M20',\n",
       " 'M21',\n",
       " 'M22',\n",
       " 'M23',\n",
       " 'M24',\n",
       " 'M25',\n",
       " 'M26',\n",
       " 'M27',\n",
       " 'M28',\n",
       " 'M29',\n",
       " 'M3',\n",
       " 'M30',\n",
       " 'M31',\n",
       " 'M32',\n",
       " 'M33',\n",
       " 'M34',\n",
       " 'M35',\n",
       " 'M36',\n",
       " 'M37',\n",
       " 'M4',\n",
       " 'M5',\n",
       " 'M6',\n",
       " 'M7',\n",
       " 'M8',\n",
       " 'M9']"
      ]
     },
     "execution_count": 15,
     "metadata": {},
     "output_type": "execute_result"
    }
   ],
   "source": [
    "subject_list"
   ]
  },
  {
   "cell_type": "code",
   "execution_count": 16,
   "id": "914f988e-1501-49e4-bf71-341375cf5962",
   "metadata": {},
   "outputs": [
    {
     "data": {
      "text/plain": [
       "23"
      ]
     },
     "execution_count": 16,
     "metadata": {},
     "output_type": "execute_result"
    }
   ],
   "source": [
    "subject_list.index('F30')"
   ]
  },
  {
   "cell_type": "code",
   "execution_count": 18,
   "id": "bf1ee8ae-5311-4dae-853e-5c32ffc3845e",
   "metadata": {
    "scrolled": true,
    "tags": []
   },
   "outputs": [
    {
     "name": "stdout",
     "output_type": "stream",
     "text": [
      "F1 Test accuracy: 0.7143\n",
      "F10 Test accuracy: 0.8571\n",
      "F11 Test accuracy: 1.0000\n",
      "F12 Test accuracy: 0.8571\n",
      "F13 Test accuracy: 0.8571\n",
      "F14 Test accuracy: 0.7143\n",
      "F15 Test accuracy: 0.7143\n",
      "F16 Test accuracy: 1.0000\n",
      "F17 Test accuracy: 0.0000\n",
      "F18 Test accuracy: 0.8571\n",
      "F19 Test accuracy: 1.0000\n",
      "F2 Test accuracy: 0.8571\n",
      "F20 Test accuracy: 1.0000\n",
      "F21 Test accuracy: 1.0000\n",
      "F22 Test accuracy: 1.0000\n",
      "F23 Test accuracy: 0.8571\n",
      "F24 Test accuracy: 0.7143\n",
      "F25 Test accuracy: 0.8571\n",
      "F26 Test accuracy: 1.0000\n",
      "F27 Test accuracy: 1.0000\n",
      "F28 Test accuracy: 0.7143\n",
      "F29 Test accuracy: 1.0000\n",
      "F3 Test accuracy: 1.0000\n",
      "F30 Test accuracy: 0.8571\n",
      "F31 Test accuracy: 0.8571\n",
      "F32 Test accuracy: 1.0000\n",
      "F33 Test accuracy: 0.7143\n",
      "F34 Test accuracy: 1.0000\n",
      "F35 Test accuracy: 1.0000\n",
      "F36 Test accuracy: 1.0000\n",
      "F37 Test accuracy: 1.0000\n",
      "F4 Test accuracy: 0.2857\n",
      "F5 Test accuracy: 1.0000\n",
      "F6 Test accuracy: 0.2857\n",
      "F7 Test accuracy: 1.0000\n",
      "F8 Test accuracy: 1.0000\n",
      "F9 Test accuracy: 1.0000\n",
      "M1 Test accuracy: 0.8571\n",
      "M10 Test accuracy: 0.8571\n",
      "M11 Test accuracy: 0.4286\n",
      "M12 Test accuracy: 0.8571\n",
      "M13 Test accuracy: 1.0000\n",
      "M14 Test accuracy: 1.0000\n",
      "M15 Test accuracy: 0.8571\n",
      "M16 Test accuracy: 0.8571\n",
      "M17 Test accuracy: 1.0000\n",
      "M18 Test accuracy: 1.0000\n",
      "M19 Test accuracy: 1.0000\n",
      "M2 Test accuracy: 0.7143\n",
      "M20 Test accuracy: 1.0000\n",
      "M21 Test accuracy: 1.0000\n",
      "M22 Test accuracy: 1.0000\n",
      "M23 Test accuracy: 1.0000\n",
      "M24 Test accuracy: 1.0000\n",
      "M25 Test accuracy: 1.0000\n",
      "M26 Test accuracy: 0.8571\n",
      "M27 Test accuracy: 1.0000\n",
      "M28 Test accuracy: 1.0000\n",
      "M29 Test accuracy: 1.0000\n",
      "M3 Test accuracy: 1.0000\n",
      "M30 Test accuracy: 1.0000\n",
      "M31 Test accuracy: 1.0000\n",
      "M32 Test accuracy: 0.7143\n",
      "M33 Test accuracy: 1.0000\n",
      "M34 Test accuracy: 1.0000\n",
      "M35 Test accuracy: 0.8571\n",
      "M36 Test accuracy: 1.0000\n",
      "M37 Test accuracy: 1.0000\n",
      "M4 Test accuracy: 1.0000\n",
      "M5 Test accuracy: 0.8571\n",
      "M6 Test accuracy: 0.8571\n",
      "M7 Test accuracy: 1.0000\n",
      "M8 Test accuracy: 1.0000\n",
      "M9 Test accuracy: 0.8571\n"
     ]
    }
   ],
   "source": [
    "test_transform = torchvision.transforms.Compose([\n",
    "                                transforms.Resize((224, 224)),\n",
    "                                transforms.ToTensor(),\n",
    "                                transforms.Normalize([0.485, 0.456, 0.406], [0.229, 0.224, 0.225])\n",
    "                                ])\n",
    "\n",
    "test_loader_set = []\n",
    "\n",
    "for one_subject in subject_list:\n",
    "    # try:\n",
    "    test_path= 'D:\\\\experiment_dataset\\\\'  +  '{}\\\\test'.format(one_subject)\n",
    "    test_dataset = torchvision.datasets.ImageFolder(test_path, transform=test_transform)\n",
    "    test_loader = torch.utils.data.DataLoader(test_dataset, batch_size=1, shuffle=False, num_workers=num_workers)\n",
    "    test_loader_set.append(test_loader)\n",
    "    # except:\n",
    "    #     pass\n",
    "    # break\n",
    "    class_names = 7\n",
    "    learning_rate =0.1 #1e-5(X)\n",
    "\n",
    "    model=torchvision.models.resnet152(pretrained=True)\n",
    "\n",
    "    num_ftrs = model.fc.in_features \n",
    "    model.fc = torch.nn.Linear(num_ftrs, class_names) #(fc): Linear(in_features=2048, out_features=7, bias=True)\n",
    "    model.to(device)\n",
    "\n",
    "    model_save_dir= 'D:\\\\Task/Resnet152/saved_model\\\\' + '{}.pt'.format(one_subject)\n",
    "\n",
    "    optimizer = torch.optim.SGD(model.fc.parameters(), lr=learning_rate, momentum=0.9, weight_decay=0.0001)\n",
    "\n",
    "    checkpoint = torch.load(model_save_dir)\n",
    "\n",
    "    model.load_state_dict(checkpoint['model_state_dict'])#checkpoint['model_state_dict'])\n",
    "    optimizer.load_state_dict(checkpoint['optimizer_state_dict'])\n",
    "    epoch = checkpoint['epoch']\n",
    "\n",
    "    model.eval()\n",
    "    \n",
    "    total_loss = 0\n",
    "    total_len = 0\n",
    "    total_correct = 0\n",
    "\n",
    "    for batch_sample, batch_label in test_loader:\n",
    "\n",
    "        sample = batch_sample.to(device)\n",
    "        label = batch_label.to(device)\n",
    "\n",
    "        with torch.no_grad():\n",
    "            output = model.forward(sample) \n",
    "        # loss = loss_func(output, label)     \n",
    "\n",
    "        _, output_index = torch.max(output, 1)   \n",
    "        preds = output_index\n",
    "       \n",
    "        correct = preds.eq(label)   #1배치에 맞힌 갯수     \n",
    "\n",
    "        total_correct += correct.sum().item()  #1배치에 맞힌 개수 계속 더함        \n",
    "\n",
    "        total_len += len(label)      #1배치 갯수 계속 더함\n",
    "\n",
    "        test_accuracy = total_correct / total_len #이시점까지(에폴당) 누적된(배치마다 계속 맞힌 갯수 더한) 정확도\n",
    "        # print('test_accuracy', test_accuracy)\n",
    "    # print('{}/{}  Test accuracy: {:.4f}'.format(epoch + 1, epochs, test_accuracy)) #(에폭당) 전체데이터셋에 대한 정확도 #마지막 배치(앞에서부터 끝까지 누적됨)정확도랑 같음\n",
    "    print('{} Test accuracy: {:.4f}'.format(one_subject, test_accuracy)) "
   ]
  },
  {
   "cell_type": "code",
   "execution_count": null,
   "id": "9c955bf9-c796-4cd1-bc82-4ebc426724e9",
   "metadata": {},
   "outputs": [],
   "source": [
    "F1 Test accuracy: 0.7143\n",
    "F10 Test accuracy: 0.8571\n",
    "F11 Test accuracy: 1.0000\n",
    "F12 Test accuracy: 0.8571\n",
    "F13 Test accuracy: 0.8571\n",
    "F14 Test accuracy: 0.7143\n",
    "F15 Test accuracy: 0.7143\n",
    "F16 Test accuracy: 1.0000\n",
    "F17 Test accuracy: 0.0000\n",
    "F18 Test accuracy: 0.8571\n",
    "F19 Test accuracy: 1.0000\n",
    "F2 Test accuracy: 0.8571\n",
    "F20 Test accuracy: 1.0000\n",
    "F21 Test accuracy: 1.0000\n",
    "F22 Test accuracy: 1.0000\n",
    "F23 Test accuracy: 0.8571\n",
    "F24 Test accuracy: 0.7143\n",
    "F25 Test accuracy: 0.8571\n",
    "F26 Test accuracy: 1.0000\n",
    "F27 Test accuracy: 1.0000\n",
    "F28 Test accuracy: 0.7143\n",
    "F29 Test accuracy: 0.8571"
   ]
  }
 ],
 "metadata": {
  "kernelspec": {
   "display_name": "Python 3 (ipykernel)",
   "language": "python",
   "name": "python3"
  },
  "language_info": {
   "codemirror_mode": {
    "name": "ipython",
    "version": 3
   },
   "file_extension": ".py",
   "mimetype": "text/x-python",
   "name": "python",
   "nbconvert_exporter": "python",
   "pygments_lexer": "ipython3",
   "version": "3.9.12"
  }
 },
 "nbformat": 4,
 "nbformat_minor": 5
}
